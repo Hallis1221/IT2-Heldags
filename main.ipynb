{
 "cells": [
  {
   "cell_type": "code",
   "execution_count": null,
   "metadata": {},
   "outputs": [],
   "source": [
    "import logging\n",
    "from dataset.data_cleaner import DataCleaner\n",
    "from dataset.data_exporter import DataExporter\n",
    "from dataset.main import DataFramework"
   ]
  },
  {
   "cell_type": "code",
   "execution_count": null,
   "metadata": {},
   "outputs": [],
   "source": [
    "\n",
    "logging.basicConfig(level=logging.INFO, format='%(asctime)s - %(levelname)s - %(message)s',filename=\"logs/data.log\")"
   ]
  },
  {
   "cell_type": "code",
   "execution_count": null,
   "metadata": {},
   "outputs": [],
   "source": [
    "\n",
    "dataset_path = './data/HKS2023.csv' \n",
    "framework = DataFramework(dataset_path)\n",
    "datacleaner = DataCleaner()\n",
    "framework.df = datacleaner.clean_data(framework.df)"
   ]
  },
  {
   "cell_type": "code",
   "execution_count": null,
   "metadata": {},
   "outputs": [],
   "source": [
    "framework.df = framework.filter_data(\"Gender\", lambda x: x in ['M', 'F'])\n",
    "\n",
    "grouped = framework.seperate_based_on_column(\"GroupdName\")\n",
    "for group, df in grouped.items():\n",
    "    DataExporter.export_data(df, f\"./data/pulje/{group}.xlsx\", format='excel')\n",
    "logging.info(framework.show_statistics())"
   ]
  }
 ],
 "metadata": {
  "language_info": {
   "name": "python"
  },
  "orig_nbformat": 4
 },
 "nbformat": 4,
 "nbformat_minor": 2
}
